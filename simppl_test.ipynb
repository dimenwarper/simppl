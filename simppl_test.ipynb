{
 "cells": [
  {
   "cell_type": "code",
   "execution_count": 1,
   "metadata": {},
   "outputs": [],
   "source": [
    "%matplotlib inline\n",
    "%load_ext autoreload\n",
    "%autoreload 2\n",
    "\n",
    "from simppl.distributions import Pick, Flip, SomeValue\n",
    "from simppl.utils import capture_locals\n",
    "from simppl.inference import Enumerate\n",
    "\n",
    "import numpy as np\n",
    "\n",
    "\n",
    "\n"
   ]
  },
  {
   "cell_type": "code",
   "execution_count": 1,
   "metadata": {
    "scrolled": false
   },
   "outputs": [
    {
     "name": "stdout",
     "output_type": "stream",
     "text": [
      "{'tails!': 0.5000000000000002, 'heads!': 0.5000000000000002}\n"
     ]
    },
    {
     "data": {
      "text/html": [
       "<div><h4>Model Tree</h4><div><pre>   ┌──⮀ Flip name=flip\n",
       "   │  └──⮀ p = Pick(name=pick items=[0.75, 0.5])\n",
       "   └──⮀ Flip name=flip2\n",
       "     └──⮀ p = Pick(name=pick2 items=[0.01, 0.3, 0.5])\n",
       "</pre></div><h4>Priors</h4><div><span><img style=\"display: inline\" src='data:image/png;base64,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', height=\"15%\", width=\"15%\"></span><span><img style=\"display: inline\" src='data:image/png;base64,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', height=\"15%\", width=\"15%\"></span></div></div>"
      ],
      "text/plain": [
       "<simppl.inference.Model at 0x11c9ea450>"
      ]
     },
     "execution_count": 1,
     "metadata": {},
     "output_type": "execute_result"
    }
   ],
   "source": [
    "from simppl.distributions import Pick, Flip, SomeValue\n",
    "from simppl.utils import capture_locals\n",
    "from simppl.inference import Enumerate\n",
    "\n",
    "import numpy as np\n",
    "\n",
    "\n",
    "def my_model(flips=None):\n",
    "    p = Pick(name='pick', items=[0.75, 0.5])\n",
    "    f = Flip(name='flip', p=p, observed=flips)\n",
    "    \n",
    "    d = Pick(name='pick2', items=[0.01, 0.3, 0.5])\n",
    "    e = Flip(name='flip2', p=d)\n",
    "    ro = np.exp(p)\n",
    "    \n",
    "    capture_locals()\n",
    "    if f:\n",
    "        return 'heads!'\n",
    "    return 'tails!'\n",
    "\n",
    "env = Enumerate(my_model, flips=[0] * 1 + [1] * 4)\n",
    "\n",
    "print(env.return_values)\n",
    "env.model"
   ]
  },
  {
   "cell_type": "code",
   "execution_count": 2,
   "metadata": {},
   "outputs": [
    {
     "name": "stdout",
     "output_type": "stream",
     "text": [
      "None\n"
     ]
    }
   ],
   "source": [
    "print(None)"
   ]
  }
 ],
 "metadata": {
  "kernelspec": {
   "display_name": "Python 3",
   "language": "python",
   "name": "python3"
  },
  "language_info": {
   "codemirror_mode": {
    "name": "ipython",
    "version": 3
   },
   "file_extension": ".py",
   "mimetype": "text/x-python",
   "name": "python",
   "nbconvert_exporter": "python",
   "pygments_lexer": "ipython3",
   "version": "3.7.7"
  },
  "pycharm": {
   "stem_cell": {
    "cell_type": "raw",
    "metadata": {
     "collapsed": false
    },
    "source": [
     "# Simppl test\n",
     "dd\n",
     "\n",
     "\n",
     "\n",
     "\n",
     "# Simppl test\n",
     "\n",
     "\n"
    ]
   }
  }
 },
 "nbformat": 4,
 "nbformat_minor": 1
}
