{
 "cells": [
  {
   "cell_type": "code",
   "execution_count": 4,
   "metadata": {},
   "outputs": [
    {
     "name": "stderr",
     "output_type": "stream",
     "text": [
      "/Users/pablo/Documents/packages/simppl/simppl/distributions.py:39: RuntimeWarning: divide by zero encountered in log\n",
      "  return np.log(1 - self.p if choice == 0 else self.p)\n"
     ]
    },
    {
     "data": {
      "text/plain": [
       "InferenceResults(model_locals={'flips': [[None, -2.302585092994046], [None, -0.916290731874155], [None, -2.9957322735539913], [None, -0.7985076962177715], [None, -0.6931471805599453], [None, -0.6931471805599453], [None, -2.3025850929940455], [None, -inf], [None, -2.407945608651872], [None, -4.605170185988091], [None, -2.525728644308255], [None, -3.9120230054281455], [None, -2.659260036932778], [None, -3.5065578973199814], [None, -2.8134107167600364], [None, -3.2188758248682006], [None, -2.995732273553991], [None, -2.995732273553991], [None, -3.218875824868201], [None, -2.813410716760036], [None, -3.506557897319982], [None, -2.659260036932778], [None, -3.912023005428146], [None, -2.525728644308255], [None, -4.605170185988092], [None, -2.407945608651872]], 'p': [[0.8, -2.302585092994046], [0.8, -0.916290731874155], [0.9, -2.9957322735539913], [0.9, -0.7985076962177715], [0.5, -0.6931471805599453], [0.5, -0.6931471805599453], [0.0, -2.3025850929940455], [0.0, -inf], [0.1, -2.407945608651872], [0.1, -4.605170185988091], [0.2, -2.525728644308255], [0.2, -3.9120230054281455], [0.30000000000000004, -2.659260036932778], [0.30000000000000004, -3.5065578973199814], [0.4, -2.8134107167600364], [0.4, -3.2188758248682006], [0.5, -2.995732273553991], [0.5, -2.995732273553991], [0.6000000000000001, -3.218875824868201], [0.6000000000000001, -2.813410716760036], [0.7000000000000001, -3.506557897319982], [0.7000000000000001, -2.659260036932778], [0.8, -3.912023005428146], [0.8, -2.525728644308255], [0.9, -4.605170185988092], [0.9, -2.407945608651872]], 'f': [[0, -2.302585092994046], [1, -0.916290731874155], [0, -2.9957322735539913], [1, -0.7985076962177715], [0, -0.6931471805599453], [1, -0.6931471805599453], [0, -2.3025850929940455], [1, -inf], [0, -2.407945608651872], [1, -4.605170185988091], [0, -2.525728644308255], [1, -3.9120230054281455], [0, -2.659260036932778], [1, -3.5065578973199814], [0, -2.8134107167600364], [1, -3.2188758248682006], [0, -2.995732273553991], [1, -2.995732273553991], [0, -3.218875824868201], [1, -2.813410716760036], [0, -3.506557897319982], [1, -2.659260036932778], [0, -3.912023005428146], [1, -2.525728644308255], [0, -4.605170185988092], [1, -2.407945608651872]]}, return_value={'tails!': 0.5499999999999998, 'heads!': 0.44999999999999996})"
      ]
     },
     "execution_count": 4,
     "metadata": {},
     "output_type": "execute_result"
    }
   ],
   "source": [
    "from simppl.distributions import Pick, Flip\n",
    "from simppl.utils import capture_locals\n",
    "from simppl.inference import Enumerate\n",
    "\n",
    "import numpy as np\n",
    "\n",
    "def my_model(flips=None):\n",
    "    p = Pick(name='pick', items=np.arange(0, 1, 0.1))\n",
    "    f = Flip(name='flip', p=p, observed=flips)\n",
    "    \n",
    "    capture_locals()\n",
    "    if f:\n",
    "        return 'heads!'\n",
    "    return 'tails!'\n",
    "\n",
    "Enumerate(my_model)#, flips=[0,1,1,1])"
   ]
  },
  {
   "cell_type": "code",
   "execution_count": null,
   "metadata": {},
   "outputs": [],
   "source": []
  }
 ],
 "metadata": {
  "kernelspec": {
   "display_name": "Python 3",
   "language": "python",
   "name": "python3"
  },
  "language_info": {
   "codemirror_mode": {
    "name": "ipython",
    "version": 3
   },
   "file_extension": ".py",
   "mimetype": "text/x-python",
   "name": "python",
   "nbconvert_exporter": "python",
   "pygments_lexer": "ipython3",
   "version": "3.7.7"
  },
  "pycharm": {
   "stem_cell": {
    "cell_type": "raw",
    "metadata": {
     "collapsed": false
    },
    "source": [
     "# Simppl test\n",
     "dd\n",
     "\n",
     "\n",
     "\n",
     "\n",
     "# Simppl test\n",
     "\n",
     "\n"
    ]
   }
  }
 },
 "nbformat": 4,
 "nbformat_minor": 1
}
